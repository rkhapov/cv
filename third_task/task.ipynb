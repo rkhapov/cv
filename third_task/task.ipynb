{
 "cells": [
  {
   "cell_type": "code",
   "execution_count": 1,
   "metadata": {},
   "outputs": [],
   "source": [
    "import matplotlib.pyplot as plt"
   ]
  },
  {
   "cell_type": "code",
   "execution_count": 2,
   "metadata": {},
   "outputs": [],
   "source": [
    "from numpy import genfromtxt\n",
    "import numpy as np"
   ]
  },
  {
   "cell_type": "code",
   "execution_count": 3,
   "metadata": {},
   "outputs": [],
   "source": [
    "my_data = genfromtxt('data.csv', delimiter=' ')\n",
    "my_data = np.asmatrix(my_data)"
   ]
  },
  {
   "cell_type": "code",
   "execution_count": 4,
   "metadata": {},
   "outputs": [
    {
     "name": "stdout",
     "output_type": "stream",
     "text": [
      "(28, 13)\n"
     ]
    }
   ],
   "source": [
    "print(my_data.shape)"
   ]
  },
  {
   "cell_type": "code",
   "execution_count": 5,
   "metadata": {},
   "outputs": [
    {
     "name": "stdout",
     "output_type": "stream",
     "text": [
      "(28, 11)\n"
     ]
    }
   ],
   "source": [
    "columns_number = my_data.shape[1]\n",
    "X = my_data[:, 1 : columns_number - 1]\n",
    "print(X.shape)"
   ]
  },
  {
   "cell_type": "code",
   "execution_count": 6,
   "metadata": {},
   "outputs": [
    {
     "name": "stdout",
     "output_type": "stream",
     "text": [
      "[[25.9]\n",
      " [29.5]\n",
      " [27.9]\n",
      " [25.9]\n",
      " [29.9]\n",
      " [29.9]\n",
      " [30.9]\n",
      " [28.9]\n",
      " [84.9]\n",
      " [82.9]\n",
      " [35.9]\n",
      " [31.5]\n",
      " [31. ]\n",
      " [30.9]\n",
      " [30. ]\n",
      " [28.9]\n",
      " [36.9]\n",
      " [41.9]\n",
      " [40.5]\n",
      " [43.9]\n",
      " [37.5]\n",
      " [37.9]\n",
      " [44.5]\n",
      " [37.9]\n",
      " [38.9]\n",
      " [36.9]\n",
      " [45.8]\n",
      " [41. ]] (28, 1)\n",
      "28\n"
     ]
    }
   ],
   "source": [
    "Y = my_data[:, (columns_number - 1)]\n",
    "print(Y, Y.shape)\n",
    "m = Y.shape[0]\n",
    "print(m)"
   ]
  },
  {
   "cell_type": "code",
   "execution_count": 7,
   "metadata": {},
   "outputs": [
    {
     "name": "stdout",
     "output_type": "stream",
     "text": [
      "[[0.998]\n",
      " [1.5  ]\n",
      " [1.175]\n",
      " [1.232]\n",
      " [1.121]\n",
      " [0.988]\n",
      " [1.24 ]\n",
      " [1.501]\n",
      " [3.42 ]\n",
      " [3.   ]\n",
      " [1.225]\n",
      " [1.552]\n",
      " [0.975]\n",
      " [1.121]\n",
      " [1.02 ]\n",
      " [1.501]\n",
      " [1.664]\n",
      " [1.488]\n",
      " [1.376]\n",
      " [1.5  ]\n",
      " [1.256]\n",
      " [1.69 ]\n",
      " [1.82 ]\n",
      " [1.652]\n",
      " [1.777]\n",
      " [1.504]\n",
      " [1.831]\n",
      " [1.2  ]]\n"
     ]
    }
   ],
   "source": [
    "X = X[:, 3] # выборка жилой площади из данных\n",
    "print(X)"
   ]
  },
  {
   "cell_type": "code",
   "execution_count": 8,
   "metadata": {},
   "outputs": [
    {
     "data": {
      "image/png": "[encoded data removed]",
      "text/plain": [
       "<Figure size 432x288 with 1 Axes>"
      ]
     },
     "metadata": {
      "needs_background": "light"
     },
     "output_type": "display_data"
    }
   ],
   "source": [
    "plt.plot(X, Y, 'x')\n",
    "plt.xlabel('площадь')\n",
    "plt.ylabel('стоимость')\n",
    "plt.show()"
   ]
  },
  {
   "cell_type": "code",
   "execution_count": 9,
   "metadata": {},
   "outputs": [],
   "source": [
    "X = np.append(np.ones((m, 1)), X, 1)"
   ]
  },
  {
   "cell_type": "code",
   "execution_count": 10,
   "metadata": {},
   "outputs": [
    {
     "name": "stdout",
     "output_type": "stream",
     "text": [
      "[[1.]\n",
      " [1.]]\n",
      "Ошибка при данном векторе theta составляет:\n",
      "725.1799981607144\n"
     ]
    }
   ],
   "source": [
    "def cost(X, y, theta):\n",
    "    m = y.shape[0]\n",
    "    \n",
    "    J = np.sum(np.square(X * theta - y)) / (2 * m)\n",
    "    \n",
    "    return J\n",
    "\n",
    "theta = np.ones((2,1))\n",
    "print(theta)\n",
    "print(\"Ошибка при данном векторе theta составляет:\")\n",
    "print(cost(X,Y, theta))"
   ]
  },
  {
   "cell_type": "code",
   "execution_count": 11,
   "metadata": {},
   "outputs": [
    {
     "name": "stdout",
     "output_type": "stream",
     "text": [
      "[[0.]\n",
      " [0.]]\n",
      "Найденный вектор theta алгоритмом градиентного спуска:\n",
      "[[ 2.90010012]\n",
      " [23.3640224 ]]\n",
      "Ошибка при этом значении theta:\n",
      "14.579898115763427\n"
     ]
    }
   ],
   "source": [
    "theta = np.zeros((2,1))\n",
    "iterations = 1500\n",
    "alpha = 0.02\n",
    "\n",
    "def gradientDescent(X, y, theta, alpha, iterations):\n",
    "    history = np.empty((iterations,1))\n",
    "    m = y.shape[0]\n",
    "    XK = alpha / m * X.T\n",
    "    for i in range(0,iterations):        \n",
    "        theta -= XK * (X * theta - y)\n",
    "        \n",
    "        history[i] = cost(X,y,theta)\n",
    "        \n",
    "    return theta, history\n",
    "\n",
    "\n",
    "print(theta)\n",
    "print(\"Найденный вектор theta алгоритмом градиентного спуска:\")\n",
    "theta_new, history = gradientDescent(X, Y, theta, alpha, iterations)\n",
    "print(theta_new)\n",
    "print(\"Ошибка при этом значении theta:\")\n",
    "print(cost(X,Y,theta_new))\n"
   ]
  },
  {
   "cell_type": "code",
   "execution_count": 12,
   "metadata": {},
   "outputs": [
    {
     "data": {
      "image/png": "[encoded data removed]",
      "text/plain": [
       "<Figure size 432x288 with 1 Axes>"
      ]
     },
     "metadata": {
      "needs_background": "light"
     },
     "output_type": "display_data"
    }
   ],
   "source": [
    "plt.plot(X[:,1], Y, 'x') \n",
    "plt.plot(X[:,1], X * theta_new, color='red')\n",
    "\n",
    "plt.xlabel(\"площадь\")\n",
    "plt.ylabel(\"стоимость\")\n",
    "plt.show()"
   ]
  },
  {
   "cell_type": "code",
   "execution_count": 13,
   "metadata": {},
   "outputs": [
    {
     "data": {
      "image/png": "[encoded data removed]",
      "text/plain": [
       "<Figure size 432x288 with 1 Axes>"
      ]
     },
     "metadata": {
      "needs_background": "light"
     },
     "output_type": "display_data"
    }
   ],
   "source": [
    "plt.plot(np.arange(iterations), history)\n",
    "plt.xlabel(\"количество итераций\")\n",
    "plt.ylabel(\"ошибка\")\n",
    "plt.show()"
   ]
  },
  {
   "cell_type": "code",
   "execution_count": 20,
   "metadata": {},
   "outputs": [],
   "source": [
    "X = my_data[:, 1: (my_data.shape[1] - 1)] \n",
    "X = (X - np.mean(X, axis=0)) / np.std(X, axis=0)\n",
    "X = np.append(np.ones((m,1)), X, 1)"
   ]
  },
  {
   "cell_type": "code",
   "execution_count": 23,
   "metadata": {},
   "outputs": [
    {
     "name": "stdout",
     "output_type": "stream",
     "text": [
      "Найденный вектор theta алгоритмом градиентного спуска:\n",
      "[[38.15714286]\n",
      " [ 2.52102402]\n",
      " [ 4.07947982]\n",
      " [ 0.48801461]\n",
      " [ 6.67207163]\n",
      " [ 1.15959427]\n",
      " [-0.92753869]\n",
      " [-0.32669699]\n",
      " [-0.91006827]\n",
      " [ 1.19875726]\n",
      " [ 0.78600669]\n",
      " [ 1.21493978]]\n",
      "Ошибка при этом значении theta:\n",
      "4.670977033342054\n"
     ]
    }
   ],
   "source": [
    "theta = np.zeros((X.shape[1], 1))\n",
    "print(\"Найденный вектор theta алгоритмом градиентного спуска:\")\n",
    "theta_new , history = gradientDescent(X, Y, theta, alpha, iterations)\n",
    "print(theta_new)\n",
    "print(\"Ошибка при этом значении theta:\")\n",
    "print(cost(X, Y, theta_new))"
   ]
  },
  {
   "cell_type": "code",
   "execution_count": 24,
   "metadata": {},
   "outputs": [
    {
     "data": {
      "image/png": "[encoded data removed]",
      "text/plain": [
       "<Figure size 432x288 with 1 Axes>"
      ]
     },
     "metadata": {
      "needs_background": "light"
     },
     "output_type": "display_data"
    }
   ],
   "source": [
    "plt.plot(np.arange(1500), history)\n",
    "plt.xlabel(\"количество итераций\")\n",
    "plt.ylabel(\"ошибка\")\n",
    "plt.show()"
   ]
  }
 ],
 "metadata": {
  "kernelspec": {
   "display_name": "Python 3",
   "language": "python",
   "name": "python3"
  },
  "language_info": {
   "codemirror_mode": {
    "name": "ipython",
    "version": 3
   },
   "file_extension": ".py",
   "mimetype": "text/x-python",
   "name": "python",
   "nbconvert_exporter": "python",
   "pygments_lexer": "ipython3",
   "version": "3.7.5"
  }
 },
 "nbformat": 4,
 "nbformat_minor": 2
}
